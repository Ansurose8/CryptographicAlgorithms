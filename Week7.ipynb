{
  "cells": [
    {
      "cell_type": "markdown",
      "metadata": {
        "id": "view-in-github",
        "colab_type": "text"
      },
      "source": [
        "<a href=\"https://colab.research.google.com/github/Ansurose8/CryptographicAlgorithms/blob/main/Week7.ipynb\" target=\"_parent\"><img src=\"https://colab.research.google.com/assets/colab-badge.svg\" alt=\"Open In Colab\"/></a>"
      ]
    },
    {
      "cell_type": "markdown",
      "metadata": {
        "id": "fvJ4BTSLpT_-"
      },
      "source": []
    },
    {
      "cell_type": "markdown",
      "metadata": {
        "id": "zzNAV3nAyUfW"
      },
      "source": [
        "# INTRODUCTION\n",
        "\n",
        "---\n",
        "\n",
        "\n",
        "**What is Cryptography, Why do we need Cryptography?**\n",
        "\n",
        "We live in a world where a cyber threat can occur anywhere anytime.When 2 people are communicating something that is secretive, imagine someone eavesdropping or listening to it. This is where cryptography come into action,its purpose is to hide/encrypt the message/data so that only the intended person can read it.\n",
        "\n",
        "**Importance of Cryptography**\n",
        "\n",
        "*  It ensures confidentiality of the data and protect it from cybercriminals it encrypts information/data by encrypting it using a key that only the sender and reciever have access to.\n",
        "*  Cryptography can confirm the authenticity and integrity of the information being sent and received. Cryptography ensures information is not altered while in storage or during transit between the sender and the intended recipient.\n",
        "* Cryptography confirms accountability and responsibility from the sender of a message, which means they cannot later deny their intentions when they created or transmitted information.\n",
        "\n",
        "# Types of Cryptographic Algorithms\n",
        "\n",
        "---\n",
        "\n",
        "\n",
        "Cryptographic algorithms are of many types and they vary in complexity,security and the type of communication and sensitivity of the data.\n",
        "\n",
        "1.  **Symmetric Key Cryptography**\n",
        "\n",
        "Symmetric Key Cryptography/secret key cryptography uses a single key to encrypt and decrypt a message.The same key is used by the sender while encrypting and by the reciever while decrypting.\n",
        "Eg: AES, DES\n",
        "\n",
        "\n",
        "\n",
        "2.  **Assymetric Key Cryptography**\n",
        "\n",
        "Asymmetric key cryptography/public key cryptography(PKC) ,uses mathematical functions to create codes that are extreamly difficult to crack.It enables people to communicate securely in an non-secure environment without the need for a secret key.\n",
        "Eg: RSA, Dillie & Hellman\n",
        "\n",
        "\n",
        "\n",
        "\n",
        "\n",
        "\n",
        "\n",
        "\n",
        "\n",
        "\n",
        "\n",
        "\n",
        "\n",
        "\n"
      ]
    },
    {
      "cell_type": "markdown",
      "source": [
        "**DES Algorithm**\n",
        "\n",
        "Block size: 64 bits , the message is divided into block of 64 bits and each of these 64 bits are processed at a time\n",
        "Key size: 56 bits\n",
        "Number of rounds:16\n",
        "\n",
        "Take a message 64 bits,\n",
        "1.Permute the bits using IP(initial permutation)\n",
        "2.Divide into left and right lo,ro of 32 bits each\n",
        "3.Exapand ro into 48 bits using a exapnasion permutation\n",
        "The key generation Algorithm will generate 16 round keys of length 48 bits each from the input key of 56 bits\n",
        "actual key size is 64 bits ,8 bits are discarded as parity bits.\n",
        "\n",
        "4.k1 xor Exp(ro)\n",
        "5.ouput of step 4 goes to 8 sboxes(each s box takes a 6 bit input and produces a4 bit ouput)\n",
        "6.Output of step 5 is permuted using a permutation table.\n",
        "7.xor lo with output of step 6\n",
        "8.output of step 7 becomes the new left half.\n",
        "This is repeated 16 times (15 more)with 16 different keys.At the end of 16th round, the left and right haves are swapped. Then the inverse of initial permutation cipher is taken.Result is 64 bit ciphertext"
      ],
      "metadata": {
        "id": "5HRqE1RMjYUL"
      }
    },
    {
      "cell_type": "code",
      "execution_count": null,
      "metadata": {
        "colab": {
          "base_uri": "https://localhost:8080/"
        },
        "id": "OmJwNiW8Lf_y",
        "outputId": "0ac03a9e-82f7-40e9-d162-34884a47aca2"
      },
      "outputs": [
        {
          "name": "stdout",
          "output_type": "stream",
          "text": [
            "SHA256 Hash Calculator\n",
            "----------------------\n",
            "Enter the Plaintext: Hello world!\n",
            "The SHA256 hash value of the plaintext is: c0535e4be2b79ffd93291305436bf889314e4a3faec05ecffcbb7df31ad9e51a\n",
            "Encrypted: b'\\xe3\\x1a\\x0c\\xc9\\xcb\\xd6r\\xba\\xae\\x05\\xad\\x11\\x03\\xeb\\x95\\xb8'\n",
            "Decrypted: Hello world!\n"
          ]
        }
      ],
      "source": [
        "#DES(Data Encryption Standard)\n",
        "import os\n",
        "from hashlib import sha256\n",
        "from Crypto.Cipher import DES\n",
        "from Crypto.Random import get_random_bytes\n",
        "\n",
        "def generate_des_key():\n",
        "    # Generate 8 bytes (56 bits) of random data for the key\n",
        "    return get_random_bytes(8) #uses the 'get_random_bytes' function from 'Crypto.Random'\n",
        "\n",
        "def encrypt_des(key, plaintext):\n",
        "    cipher = DES.new(key, DES.MODE_ECB)\n",
        "    # Encode the plaintext string as bytes using UTF-8 encoding\n",
        "    plaintext_bytes = plaintext.encode('utf-8')\n",
        "    # Pad the plaintext if needed\n",
        "    padded_plaintext = plaintext_bytes + b\"\\0\" * (8 - len(plaintext_bytes) % 8)\n",
        "    ciphertext = cipher.encrypt(padded_plaintext)\n",
        "    return ciphertext\n",
        "\n",
        "def decrypt_des(key, ciphertext):\n",
        "    cipher = DES.new(key, DES.MODE_ECB)\n",
        "    decrypted_text = cipher.decrypt(ciphertext)\n",
        "    return decrypted_text.rstrip(b\"\\0\")  # remove padding\n",
        "\n",
        "def calculateHash(value):\n",
        "    hashValue = sha256(value.encode('utf-8')).hexdigest()\n",
        "    return hashValue\n",
        "\n",
        "if __name__ == \"__main__\":\n",
        "    os.system('cls')\n",
        "    #print(\"SHA256 Hash Calculator\")\n",
        "    #print(\"----------------------\")\n",
        "    plaintext = input(\"Enter the Plaintext: \")  # User inputs plaintext\n",
        "    hash_value = calculateHash(plaintext)\n",
        "    print(f\"The hash value of the plaintext is: {hash_value}\")\n",
        "\n",
        "    # Example usage of DES encryption and decryption\n",
        "    key = generate_des_key()  # generate a random DES key\n",
        "    ciphertext = encrypt_des(key, plaintext)\n",
        "    print(\"Encrypted:\", ciphertext)\n",
        "\n",
        "    decrypted_text = decrypt_des(key, ciphertext)\n",
        "    print(\"Decrypted:\", decrypted_text.decode('utf-8'))\n"
      ]
    },
    {
      "cell_type": "code",
      "execution_count": null,
      "metadata": {
        "colab": {
          "base_uri": "https://localhost:8080/"
        },
        "id": "mOt3Ts-bMu7B",
        "outputId": "8a11702e-4b5f-4d5a-ced0-aac9394c5aba"
      },
      "outputs": [
        {
          "name": "stdout",
          "output_type": "stream",
          "text": [
            "Collecting pycryptodome\n",
            "  Downloading pycryptodome-3.20.0-cp35-abi3-manylinux_2_17_x86_64.manylinux2014_x86_64.whl (2.1 MB)\n",
            "\u001b[2K     \u001b[90m━━━━━━━━━━━━━━━━━━━━━━━━━━━━━━━━━━━━━━━━\u001b[0m \u001b[32m2.1/2.1 MB\u001b[0m \u001b[31m11.0 MB/s\u001b[0m eta \u001b[36m0:00:00\u001b[0m\n",
            "\u001b[?25hInstalling collected packages: pycryptodome\n",
            "Successfully installed pycryptodome-3.20.0\n"
          ]
        }
      ],
      "source": [
        "!pip install pycryptodome"
      ]
    },
    {
      "cell_type": "markdown",
      "source": [
        "** AES Algorithm:**\n",
        "\n",
        "Block Size:128 bits\n",
        "Key Size:128, 192, or 256 bits\n",
        "Number of Rounds:10, 12, or 14 depending on the key size\n",
        "\n",
        "1. SubBytes: Each byte of the input is replaced with another byte according to a substitution table.\n",
        "2. ShiftRows: Bytes in each row of the state are shifted cyclically to the left.\n",
        "3. MixColumn: Each column of the state is multiplied with a fixed polynomial modulo an irreducible polynomial.\n",
        "4. AddRoundKey: Each byte of the state is combined with a byte of the round key using bitwise XOR.\n",
        "\n",
        "These steps are repeated for a number of rounds based on the key size, and at the end, the resulting state is the ciphertext."
      ],
      "metadata": {
        "id": "wBLOHKbsnI-z"
      }
    },
    {
      "cell_type": "code",
      "execution_count": null,
      "metadata": {
        "colab": {
          "base_uri": "https://localhost:8080/"
        },
        "id": "Eiq50MF0OB3g",
        "outputId": "5f46a42a-3348-4b69-e7c5-da40e2b4a0a4"
      },
      "outputs": [
        {
          "name": "stdout",
          "output_type": "stream",
          "text": [
            "AES Encryption and Decryption\n",
            "-----------------------------\n",
            "Enter the password: hi world\n",
            "Enter the salt: saltsalt\n",
            "Enter the plaintext: hellllooooo\n",
            "Encrypted: b';\\x01O\\xbaO=\\xc7\\xa2\\xad,\\x9a! \\xb0\\t\\x90\\xf5\\xde\\x81\\xdfo<\\xde=\\x18\\xc5\\xfb\\xb1-\\x9fo\\xf0'\n",
            "Decrypted: hellllooooo\n"
          ]
        }
      ],
      "source": [
        "# Import necessary libraries\n",
        "import os\n",
        "from Crypto.Cipher import AES\n",
        "from Crypto.Random import get_random_bytes\n",
        "from Crypto.Protocol.KDF import PBKDF2\n",
        "from Crypto.Util.Padding import pad, unpad\n",
        "from hashlib import sha256  # Importing sha256 for hashing\n",
        "\n",
        "# Function to generate AES key using PBKDF2\n",
        "def generate_aes_key(password, salt):\n",
        "    # Derive key using PBKDF2 with 1,000,000 iterations\n",
        "    key = PBKDF2(password, salt, dkLen=32, count=1000000)\n",
        "    return key\n",
        "\n",
        "# Function to encrypt plaintext using AES\n",
        "def encrypt_aes(key, plaintext):\n",
        "    # Generate a random initialization vector (IV)\n",
        "    iv = get_random_bytes(AES.block_size)\n",
        "    # Create AES cipher in CBC mode with the given key and IV\n",
        "    cipher = AES.new(key, AES.MODE_CBC, iv)\n",
        "    # Pad the plaintext to be a multiple of the block size\n",
        "    padded_plaintext = pad(plaintext.encode('utf-8'), AES.block_size)\n",
        "    # Encrypt the padded plaintext\n",
        "    ciphertext = cipher.encrypt(padded_plaintext)\n",
        "    # Concatenate IV and ciphertext\n",
        "    return iv + ciphertext\n",
        "\n",
        "# Function to decrypt ciphertext using AES\n",
        "def decrypt_aes(key, ciphertext):\n",
        "    # Extract IV from the ciphertext\n",
        "    iv = ciphertext[:AES.block_size]\n",
        "    # Create AES cipher in CBC mode with the given key and IV\n",
        "    cipher = AES.new(key, AES.MODE_CBC, iv)\n",
        "    # Decrypt the ciphertext\n",
        "    decrypted_data = cipher.decrypt(ciphertext[AES.block_size:])\n",
        "    # Remove padding from decrypted data and decode to plaintext\n",
        "    plaintext = unpad(decrypted_data, AES.block_size).decode('utf-8')\n",
        "    return plaintext\n",
        "\n",
        "# Function to calculate hash value using SHA-256\n",
        "def calculateHash(value):\n",
        "    hashValue = sha256(value.encode('utf-8')).hexdigest()\n",
        "    return hashValue\n",
        "\n",
        "if __name__ == \"__main__\":\n",
        "    # Clear the console screen\n",
        "    os.system('cls')\n",
        "    print(\"AES Encryption and Decryption\")\n",
        "    print(\"-----------------------------\")\n",
        "    # Prompt user for password, salt, and plaintext input\n",
        "    password = input(\"Enter the password: \")\n",
        "    salt = input(\"Enter the salt: \")\n",
        "    plaintext = input(\"Enter the plaintext: \")\n",
        "\n",
        "    # Generate AES key from hashed password and salt\n",
        "    key = generate_aes_key(calculateHash(password), salt.encode('utf-8'))\n",
        "\n",
        "    # Encrypt plaintext using AES\n",
        "    ciphertext = encrypt_aes(key, plaintext)\n",
        "    print(\"Encrypted:\", ciphertext)\n",
        "\n",
        "    # Decrypt ciphertext using AES\n",
        "    decrypted_text = decrypt_aes(key, ciphertext)\n",
        "    print(\"Decrypted:\", decrypted_text)\n",
        "\n"
      ]
    },
    {
      "cell_type": "markdown",
      "source": [
        "\n",
        "**RSA Algorithm**\n",
        "\n",
        "Key Size: Typically 1024, 2048, or 4096 bits\n",
        "\n",
        "Key Generation: Two large prime numbers are chosen, and from them, the public and private keys are generated.\n",
        "Encryption: The plaintext message is raised to the power of the public key modulo the modulus to obtain the ciphertext.\n",
        "\n",
        "Decryption: The ciphertext is raised to the power of the private key modulo the modulus to obtain the original plaintext message."
      ],
      "metadata": {
        "id": "hEBFBu8HniBU"
      }
    },
    {
      "cell_type": "code",
      "source": [
        "# Import necessary libraries\n",
        "import os\n",
        "import random\n",
        "import hashlib\n",
        "\n",
        "# Function to generate a random prime number of specified bits length\n",
        "def generate_prime(bits):\n",
        "    while True:\n",
        "        num = random.getrandbits(bits)\n",
        "        if is_prime(num):\n",
        "            return num\n",
        "\n",
        "# Function to check if a number is prime\n",
        "def is_prime(n, k=5):\n",
        "    if n <= 1:\n",
        "        return False\n",
        "    if n <= 3:\n",
        "        return True\n",
        "    for _ in range(k):\n",
        "        a = random.randint(2, n - 1)\n",
        "        if pow(a, n - 1, n) != 1:\n",
        "            return False\n",
        "    return True\n",
        "\n",
        "# Function to calculate the greatest common divisor (GCD) of two numbers\n",
        "def gcd(a, b):\n",
        "    while b != 0:\n",
        "        a, b = b, a % b\n",
        "    return a\n",
        "\n",
        "# Function to calculate the modular inverse of a number\n",
        "def mod_inverse(a, m):\n",
        "    m0, x0, x1 = m, 0, 1\n",
        "    while a > 1:\n",
        "        q = a // m\n",
        "        m, a = a % m, m\n",
        "        x0, x1 = x1 - q * x0, x0\n",
        "    return x1 + m0 if x1 < 0 else x1\n",
        "\n",
        "# Function to generate RSA key pair\n",
        "def generate_keypair(bits):\n",
        "    p = generate_prime(bits)\n",
        "    q = generate_prime(bits)\n",
        "    n = p * q\n",
        "    phi = (p - 1) * (q - 1)\n",
        "    while True:\n",
        "        e = random.randint(2, phi - 1)\n",
        "        if gcd(e, phi) == 1:\n",
        "            break\n",
        "    d = mod_inverse(e, phi)\n",
        "    return (n, e), (n, d)\n",
        "\n",
        "# Function to encrypt a message using RSA\n",
        "def encrypt(public_key, plaintext):\n",
        "    n, e = public_key\n",
        "    return pow(plaintext, e, n)\n",
        "\n",
        "# Function to decrypt a ciphertext using RSA\n",
        "def decrypt(private_key, ciphertext):\n",
        "    n, d = private_key\n",
        "    return pow(ciphertext, d, n)\n",
        "\n",
        "# Function to calculate hash value using SHA-256 and convert to integer\n",
        "def calculate_hash(value):\n",
        "    return int.from_bytes(hashlib.sha256(value.encode('utf-8')).digest(), byteorder='big')\n",
        "\n",
        "if __name__ == \"__main__\":\n",
        "    # Clear the console screen\n",
        "    os.system('cls' if os.name == 'nt' else 'clear')\n",
        "    print(\"RSA Encryption and Decryption\")\n",
        "    print(\"----------------------------\")\n",
        "\n",
        "    # Define the bit length for RSA keys\n",
        "    bits = 1024\n",
        "    # Generate RSA key pair\n",
        "    public_key, private_key = generate_keypair(bits)\n",
        "\n",
        "    # Input the message to be encrypted\n",
        "    message = input(\"Enter the message: \")\n",
        "    # Hash the message using SHA-256\n",
        "    hashed_message = calculate_hash(message)\n",
        "\n",
        "    # Encrypt the hashed message using RSA\n",
        "    ciphertext = encrypt(public_key, hashed_message)\n",
        "    print(\"Encrypted:\", ciphertext)\n",
        "\n",
        "    # Decrypt the ciphertext using RSA\n",
        "    decrypted_hash = decrypt(private_key, ciphertext)\n",
        "    print(\"Decrypted hash:\", decrypted_hash)\n",
        "\n",
        "    # Calculate the hash of the original message\n",
        "    original_hash = calculate_hash(message)\n",
        "    print(\"Original hash:\", original_hash)\n",
        "\n",
        "    # Check if the decrypted hash matches the original hash\n",
        "    if decrypted_hash == original_hash:\n",
        "        print(\"Hashes match\")\n",
        "    else:\n",
        "        print(\"Hashes do not match\")\n"
      ],
      "metadata": {
        "colab": {
          "base_uri": "https://localhost:8080/"
        },
        "id": "02sJWigiVT_g",
        "outputId": "bbfc221f-3c2f-43fa-d03a-745b09a9d640"
      },
      "execution_count": null,
      "outputs": [
        {
          "output_type": "stream",
          "name": "stdout",
          "text": [
            "RSA Encryption and Decryption\n",
            "----------------------------\n",
            "Enter the message: hello\n",
            "Encrypted: 1096977144142619612853426014827657161607789676885215071452839804279283963242812834536871763504347093553364370289333999878422815006494755656581379189557275280328203623016943153414282926430768271312547434827877330609512054107874231928575266705869769754171144244583246174533732845911262880285980544578259710122189289349518027586055524215908493192335154746979242627614137300004920371584632342645837317254829188604435141037985703344705431936801631252223468642039416315070472430937942612308296201746381494653293532460036144980667111746158005309136846406919182884249017341521128193526208985281913740397774958827023399161773\n",
            "Decrypted hash: 20329878786436204988385760252021328656300425018755239228739303522659023427620\n",
            "Original hash: 20329878786436204988385760252021328656300425018755239228739303522659023427620\n",
            "Hashes match: Message integrity verified.\n"
          ]
        }
      ]
    },
    {
      "cell_type": "markdown",
      "source": [
        " **Diffie-Hellman Key Exchange:**\n",
        "\n",
        "\n",
        "1. Public Parameters: Agree upon a prime number and a primitive root modulo that prime.\n",
        "2. Private Keys: Each party selects a private key.\n",
        "3. Public Keys: Each party calculates their public key by raising the primitive root to their private key modulo the prime.\n",
        "4. Shared Secret: Each party exchanges their public key and computes the shared secret by raising the received public key to their own private key modulo the prime.\n",
        "\n",
        "These processes allow two parties to establish a shared secret key over an insecure channel without prior communication."
      ],
      "metadata": {
        "id": "1Rs6TIG5oVT-"
      }
    },
    {
      "cell_type": "code",
      "source": [
        "# Function to perform modular exponentiation (base^exponent mod modulus)\n",
        "def mod_exp(base, exponent, modulus):\n",
        "    result = 1\n",
        "    while exponent > 0:\n",
        "        if exponent % 2 == 1:\n",
        "            result = (result * base) % modulus\n",
        "        exponent //= 2\n",
        "        base = (base * base) % modulus\n",
        "    return result\n",
        "\n",
        "# Function to check if a number is prime\n",
        "def is_prime(num):\n",
        "    if num <= 1:\n",
        "        return False\n",
        "    if num <= 3:\n",
        "        return True\n",
        "    if num % 2 == 0 or num % 3 == 0:\n",
        "        return False\n",
        "    i = 5\n",
        "    while i * i <= num:\n",
        "        if num % i == 0 or num % (i + 2) == 0:\n",
        "            return False\n",
        "        i += 6\n",
        "    return True\n",
        "\n",
        "# Function to check if a number is a primitive root modulo prime\n",
        "def is_primitive_root(prime, candidate):\n",
        "    euler_phi = prime - 1\n",
        "    powers = set()\n",
        "    for i in range(1, prime):\n",
        "        powers.add(mod_exp(candidate, i, prime))\n",
        "    return len(powers) == euler_phi\n",
        "\n",
        "# Function to find a primitive root modulo a prime number\n",
        "def find_primitive_root(prime):\n",
        "    for candidate in range(2, prime):\n",
        "        if is_primitive_root(prime, candidate):\n",
        "            return candidate\n",
        "    return None\n",
        "\n",
        "# Function to perform Diffie-Hellman key exchange\n",
        "def diffie_hellman(prime, primitive_root, private_key):\n",
        "    public_key = mod_exp(primitive_root, private_key, prime)\n",
        "    return public_key\n",
        "\n",
        "if __name__ == \"__main__\":\n",
        "    # Input the prime number\n",
        "    prime = int(input(\"Enter the prime number: \"))\n",
        "\n",
        "    # Check if the input is a prime number\n",
        "    if not is_prime(prime):\n",
        "        print(\"Please enter a prime number.\")\n",
        "    else:\n",
        "        # Find a primitive root modulo the prime\n",
        "        primitive_root = find_primitive_root(prime)\n",
        "        if primitive_root:\n",
        "            print(\"Primitive Root:\", primitive_root)\n",
        "\n",
        "            # Input private key for user A\n",
        "            private_key_A = int(input(\"Enter private key for user A: \"))\n",
        "            # Calculate public key for user A\n",
        "            public_key_A = diffie_hellman(prime, primitive_root, private_key_A)\n",
        "\n",
        "            # Input private key for user B\n",
        "            private_key_B = int(input(\"Enter private key for user B: \"))\n",
        "            # Calculate public key for user B\n",
        "            public_key_B = diffie_hellman(prime, primitive_root, private_key_B)\n",
        "\n",
        "            # Calculate shared secret for user A\n",
        "            shared_secret_A = mod_exp(public_key_B, private_key_A, prime)\n",
        "            # Calculate shared secret for user B\n",
        "            shared_secret_B = mod_exp(public_key_A, private_key_B, prime)\n",
        "\n",
        "            print(\"Shared Secret for User A:\", shared_secret_A)\n",
        "            print(\"Shared Secret for User B:\", shared_secret_B)\n",
        "        else:\n",
        "            print(\"Primitive root not found.\")\n"
      ],
      "metadata": {
        "colab": {
          "base_uri": "https://localhost:8080/"
        },
        "id": "ctgoJyGeelaU",
        "outputId": "d449160a-2190-4f4e-b551-46d88165cde0"
      },
      "execution_count": null,
      "outputs": [
        {
          "output_type": "stream",
          "name": "stdout",
          "text": [
            "Enter the prime number: 19\n",
            "Primitive Root: 2\n",
            "Enter private key for user A: 122\n",
            "Enter private key for user B: 1567\n",
            "Shared Secret for User A: 6\n",
            "Shared Secret for User B: 6\n"
          ]
        }
      ]
    }
  ],
  "metadata": {
    "colab": {
      "provenance": [],
      "authorship_tag": "ABX9TyO/P7ybXIlOyh+kJDQ2yqAf",
      "include_colab_link": true
    },
    "kernelspec": {
      "display_name": "Python 3",
      "name": "python3"
    },
    "language_info": {
      "name": "python"
    }
  },
  "nbformat": 4,
  "nbformat_minor": 0
}